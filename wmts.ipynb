{
 "cells": [
  {
   "cell_type": "code",
   "execution_count": null,
   "metadata": {},
   "outputs": [],
   "source": [
    "import folium\n",
    "\n",
    "vworld_key='1AA256E1-B218-38A1-9BFF-A0032E752166'\n",
    "# wtms_url = f\"https://api.vworld.kr/req/wmts/1.0.0/{vworld_key}/Base/{{z}}/{{y}}/{{x}}.png\"\n",
    "wtms_url = f\"https://api.vworld.kr/req/wmts/1.0.0/{vworld_key}/Satellite/{{z}}/{{y}}/{{x}}.jpeg\"\n",
    "\n",
    "layer_map_name = \"JK's Map\"\n",
    "\n",
    "# map tile name  : range of zoom\n",
    "# Base : 6~19\n",
    "# white : 6~18\n",
    "# midnight : 6~18\n",
    "# Hybrid : 6~19\n",
    "# Satellite : 6~19    -- 위성은 jpeg 형태\n",
    "\n",
    "# Map을 생성한다\n",
    "# folium 기본 web map tile로 표시된다다\n",
    "m = folium.Map(\n",
    "    location = [ 37.575560576, 127.058889404 ],\n",
    "    zoom_start = 15\n",
    ")\n",
    "\n",
    "# m.save('test.html')\n",
    "\n",
    "## Tile을 v-world 타일로 변경한다 \n",
    "folium.TileLayer(\n",
    "    tiles=wtms_url,\n",
    "    attr= \"JK's Tile\",\n",
    "    name=layer_map_name\n",
    ").add_to(m)\n",
    "\n",
    "m.save('test.html')  ## 라이브 서버에서 호출하면 됨"
   ]
  }
 ],
 "metadata": {
  "kernelspec": {
   "display_name": "Python 3",
   "language": "python",
   "name": "python3"
  },
  "language_info": {
   "codemirror_mode": {
    "name": "ipython",
    "version": 3
   },
   "file_extension": ".py",
   "mimetype": "text/x-python",
   "name": "python",
   "nbconvert_exporter": "python",
   "pygments_lexer": "ipython3",
   "version": "3.12.3"
  }
 },
 "nbformat": 4,
 "nbformat_minor": 2
}
