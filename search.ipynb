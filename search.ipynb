{
 "cells": [
  {
   "cell_type": "code",
   "execution_count": 9,
   "metadata": {},
   "outputs": [
    {
     "name": "stdout",
     "output_type": "stream",
     "text": [
      "{\n",
      "\t\"response\": {\n",
      "\t\t\"service\": {\n",
      "\t\t\t\"name\": \"search\",\n",
      "\t\t\t\"version\": \"2.0\",\n",
      "\t\t\t\"operation\": \"search\",\n",
      "\t\t\t\"time\": \"42(ms)\"\n",
      "\t\t},\n",
      "\t\t\"status\": \"OK\",\n",
      "\t\t\"record\": {\n",
      "\t\t\t\"total\": \"1\",\n",
      "\t\t\t\"current\": \"1\"\n",
      "\t\t},\n",
      "\t\t\"page\": {\n",
      "\t\t\t\"total\": \"1\",\n",
      "\t\t\t\"current\": \"1\",\n",
      "\t\t\t\"size\": \"10\"\n",
      "\t\t},\n",
      "\t\t\"result\": {\n",
      "\t\t\t\"crs\": \"EPSG:900913\",\n",
      "\t\t\t\"type\": \"place\",\n",
      "\t\t\t\"items\": [\n",
      "\t\t\t\t{\n",
      "\t\t\t\t\t\"id\": \"POI01000000ISCW4I\",\n",
      "\t\t\t\t\t\"title\": \"ST-2426판교로\",\n",
      "\t\t\t\t\t\"category\": \"지방행정기관 > 서울시따릉이 > -\",\n",
      "\t\t\t\t\t\"address\": {\n",
      "\t\t\t\t\t\t\"road\": \"경기도 성남시 분당구 판교로 289\",\n",
      "\t\t\t\t\t\t\"parcel\": \"경기도 성남시 분당구 삼평동 694\"\n",
      "\t\t\t\t\t},\n",
      "\t\t\t\t\t\"point\": {\n",
      "\t\t\t\t\t\t\"x\": \"14149387.44197346\",\n",
      "\t\t\t\t\t\t\"y\": \"4495506.583624077\"\n",
      "\t\t\t\t\t}\n",
      "\t\t\t\t}\n",
      "\t\t\t]\n",
      "\t\t}\n",
      "\t}\n",
      "}\n"
     ]
    }
   ],
   "source": [
    "vworld_key='1AA256E1-B218-38A1-9BFF-A0032E752166'\n",
    "\n",
    "# api_url = 'https://api.vworld.kr/' ## req/address?service=address&request=GetCoord&version=2.0&crs=epsg:4326&address=서울시 동대문구 사가정로 148&refine=true&simple=false&format=json&type=ROAD&key={{vworld_key}}'\n",
    "\n",
    "\n",
    "# /* Python 코드 사용예제 */     \n",
    "import requests\n",
    "import json\n",
    "apiurl = \"https://api.vworld.kr/req/search?\"\n",
    "\n",
    "params = {\n",
    "\t\"service\":\"search\",\n",
    "\t\"request\":\"search\",\n",
    "\t\"version\": \"2.0\",\n",
    "\t\"crs\": \"EPSG:900913\",\n",
    "\t\"bbox\": \"14140071.146077,4494339.6527027,14160071.146077,4496339.6527027\",\n",
    "\t\"size\":10,\n",
    "\t\"page\":1,\n",
    "\t\"query\":\"성남시 분당구 판교로 242\",\n",
    "\t\"type\": \"place\",\n",
    "\t\"format\": \"json\",\n",
    "\t\"errorformat\":\"json\",\n",
    "\t\"key\": vworld_key\n",
    "}\n",
    "response = requests.get(apiurl, params=params)\n",
    "if response.status_code == 200:\n",
    "    print(json.dumps(response.json(), indent='\\t', ensure_ascii=False ))\n",
    "else:\n",
    "    print('Exception raised !')\n",
    "    \n"
   ]
  }
 ],
 "metadata": {
  "kernelspec": {
   "display_name": "Python 3",
   "language": "python",
   "name": "python3"
  },
  "language_info": {
   "codemirror_mode": {
    "name": "ipython",
    "version": 3
   },
   "file_extension": ".py",
   "mimetype": "text/x-python",
   "name": "python",
   "nbconvert_exporter": "python",
   "pygments_lexer": "ipython3",
   "version": "3.12.3"
  }
 },
 "nbformat": 4,
 "nbformat_minor": 2
}
